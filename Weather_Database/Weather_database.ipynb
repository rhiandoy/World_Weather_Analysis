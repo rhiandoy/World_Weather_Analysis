{
 "cells": [
  {
   "cell_type": "code",
   "execution_count": 1,
   "id": "36fa3794",
   "metadata": {},
   "outputs": [],
   "source": [
    "# Import dependencies\n",
    "import pandas as pd\n",
    "import numpy as np\n",
    "from citipy import citipy\n",
    "import time\n",
    "from datetime import datetime\n",
    "\n",
    "# import the requests library\n",
    "import requests\n",
    "\n",
    "# import the API key\n",
    "from config import weather_api_key\n",
    "\n"
   ]
  },
  {
   "cell_type": "code",
   "execution_count": 2,
   "id": "1f4f14e5",
   "metadata": {},
   "outputs": [
    {
     "data": {
      "text/plain": [
       "<zip at 0x20735b61848>"
      ]
     },
     "execution_count": 2,
     "metadata": {},
     "output_type": "execute_result"
    }
   ],
   "source": [
    "# Create a set of 2,000 random latitudes and longitudes\n",
    "# Create a set of random latitude and longitude combinations\n",
    "lats = np.random.uniform(low=-90.000, high=90.000, size=2000)\n",
    "lngs = np.random.uniform(low=-180.000, high=180.000, size=2000)\n",
    "lat_lngs = zip(lats, lngs)\n",
    "lat_lngs"
   ]
  },
  {
   "cell_type": "code",
   "execution_count": 3,
   "id": "691fcb21",
   "metadata": {},
   "outputs": [],
   "source": [
    "# Add the latitudes and longitudes to a list\n",
    "coordinates = list(lat_lngs)"
   ]
  },
  {
   "cell_type": "code",
   "execution_count": 4,
   "id": "5877a3ed",
   "metadata": {},
   "outputs": [
    {
     "data": {
      "text/plain": [
       "724"
      ]
     },
     "execution_count": 4,
     "metadata": {},
     "output_type": "execute_result"
    }
   ],
   "source": [
    "# Get the nearest city using citipy module\n",
    "# Get the nearest city using the citipy module\n",
    "# Create a list for holding the cities.\n",
    "cities = []\n",
    "# Identify the nearest city for each latitude and longitude combination.\n",
    "for coordinate in coordinates:\n",
    "    city = citipy.nearest_city(coordinate[0], coordinate[1]).city_name\n",
    "\n",
    "    # If the city is unique, then we will add it to the cities list.\n",
    "    if city not in cities:\n",
    "        cities.append(city)\n",
    "# Print the city count to confirm sufficient count.\n",
    "len(cities)"
   ]
  },
  {
   "cell_type": "code",
   "execution_count": 5,
   "id": "3e479725",
   "metadata": {},
   "outputs": [
    {
     "name": "stdout",
     "output_type": "stream",
     "text": [
      "http://api.openweathermap.org/data/2.5/weather?units=Imperial&APPID=12dc0e98aa28348d65497aae53a01a6f\n"
     ]
    }
   ],
   "source": [
    "# Perform an API call with the OpenWeatherMap\n",
    "url = \"http://api.openweathermap.org/data/2.5/weather?units=Imperial&APPID=\" + weather_api_key\n",
    "print(url)"
   ]
  },
  {
   "cell_type": "code",
   "execution_count": null,
   "id": "e1448533",
   "metadata": {},
   "outputs": [
    {
     "name": "stdout",
     "output_type": "stream",
     "text": [
      "Beginning Data Retrieval     \n",
      "-----------------------------\n",
      "Processing Record 1 of Set 1 | busselton\n",
      "Processing Record 2 of Set 1 | badiraguato\n",
      "Processing Record 3 of Set 1 | road town\n",
      "Processing Record 4 of Set 1 | saint-philippe\n",
      "Processing Record 5 of Set 1 | soyo\n",
      "Processing Record 6 of Set 1 | guerrero negro\n",
      "Processing Record 7 of Set 1 | faanui\n",
      "Processing Record 8 of Set 1 | fillmore\n",
      "Processing Record 9 of Set 1 | vytegra\n",
      "Processing Record 10 of Set 1 | gat\n",
      "Processing Record 11 of Set 1 | butaritari\n",
      "Processing Record 12 of Set 1 | punta arenas\n",
      "Processing Record 13 of Set 1 | dunayivtsi\n",
      "City not found. Skipping...\n",
      "Processing Record 14 of Set 1 | mayskiy\n",
      "Processing Record 15 of Set 1 | thompson\n",
      "Processing Record 16 of Set 1 | terme\n",
      "Processing Record 17 of Set 1 | shaartuz\n",
      "City not found. Skipping...\n",
      "Processing Record 18 of Set 1 | cabo san lucas\n",
      "Processing Record 19 of Set 1 | siyabuswa\n",
      "Processing Record 20 of Set 1 | nikolskoye\n",
      "Processing Record 21 of Set 1 | izhma\n",
      "Processing Record 22 of Set 1 | arlit\n",
      "Processing Record 23 of Set 1 | rikitea\n",
      "Processing Record 24 of Set 1 | ushuaia\n",
      "Processing Record 25 of Set 1 | bluff\n",
      "Processing Record 26 of Set 1 | roma\n",
      "Processing Record 27 of Set 1 | dikson\n",
      "Processing Record 28 of Set 1 | barentsburg\n",
      "City not found. Skipping...\n",
      "Processing Record 29 of Set 1 | severo-kurilsk\n",
      "Processing Record 30 of Set 1 | sabha\n",
      "Processing Record 31 of Set 1 | hermanus\n",
      "Processing Record 32 of Set 1 | qaanaaq\n",
      "Processing Record 33 of Set 1 | salalah\n",
      "Processing Record 34 of Set 1 | giyani\n",
      "Processing Record 35 of Set 1 | saint george\n",
      "Processing Record 36 of Set 1 | vardo\n",
      "Processing Record 37 of Set 1 | fairbanks\n",
      "Processing Record 38 of Set 1 | los llanos de aridane\n",
      "Processing Record 39 of Set 1 | east london\n",
      "Processing Record 40 of Set 1 | illoqqortoormiut\n",
      "City not found. Skipping...\n",
      "Processing Record 41 of Set 1 | vilyuysk\n",
      "Processing Record 42 of Set 1 | port alfred\n",
      "Processing Record 43 of Set 1 | sao jose da coroa grande\n",
      "Processing Record 44 of Set 1 | samalaeulu\n",
      "City not found. Skipping...\n",
      "Processing Record 45 of Set 1 | charcas\n",
      "Processing Record 46 of Set 1 | tazovskiy\n",
      "Processing Record 47 of Set 1 | talcahuano\n",
      "Processing Record 48 of Set 1 | cape town\n",
      "Processing Record 49 of Set 1 | arraial do cabo\n",
      "Processing Record 50 of Set 1 | ahipara\n",
      "Processing Record 1 of Set 2 | vila franca do campo\n",
      "Processing Record 2 of Set 2 | victoria\n",
      "Processing Record 3 of Set 2 | hobart\n",
      "Processing Record 4 of Set 2 | chokurdakh\n",
      "Processing Record 5 of Set 2 | gardan diwal\n",
      "City not found. Skipping...\n",
      "Processing Record 6 of Set 2 | hambantota\n",
      "Processing Record 7 of Set 2 | kisangani\n",
      "Processing Record 8 of Set 2 | klaksvik\n",
      "Processing Record 9 of Set 2 | emirdag\n",
      "Processing Record 10 of Set 2 | tasiilaq\n",
      "Processing Record 11 of Set 2 | jamestown\n",
      "Processing Record 12 of Set 2 | tottori\n",
      "Processing Record 13 of Set 2 | albany\n",
      "Processing Record 14 of Set 2 | alofi\n",
      "Processing Record 15 of Set 2 | homer\n",
      "Processing Record 16 of Set 2 | mataura\n",
      "Processing Record 17 of Set 2 | svetlogorsk\n",
      "Processing Record 18 of Set 2 | mindyak\n",
      "Processing Record 19 of Set 2 | pisco\n",
      "Processing Record 20 of Set 2 | esna\n",
      "Processing Record 21 of Set 2 | shahr-e babak\n",
      "Processing Record 22 of Set 2 | kapaa\n",
      "Processing Record 23 of Set 2 | coahuayana\n",
      "Processing Record 24 of Set 2 | torbay\n",
      "Processing Record 25 of Set 2 | bambous virieux\n",
      "Processing Record 26 of Set 2 | kodiak\n",
      "Processing Record 27 of Set 2 | norman wells\n",
      "Processing Record 28 of Set 2 | sabaudia\n",
      "Processing Record 29 of Set 2 | karaul\n",
      "City not found. Skipping...\n",
      "Processing Record 30 of Set 2 | nizhneyansk\n",
      "City not found. Skipping...\n",
      "Processing Record 31 of Set 2 | geraldton\n",
      "Processing Record 32 of Set 2 | volax\n",
      "Processing Record 33 of Set 2 | satitoa\n",
      "City not found. Skipping...\n",
      "Processing Record 34 of Set 2 | zhigansk\n",
      "Processing Record 35 of Set 2 | pitimbu\n",
      "Processing Record 36 of Set 2 | mar del plata\n",
      "Processing Record 37 of Set 2 | drovyanaya\n",
      "Processing Record 38 of Set 2 | puerto ayora\n",
      "Processing Record 39 of Set 2 | anniston\n",
      "Processing Record 40 of Set 2 | carnarvon\n",
      "Processing Record 41 of Set 2 | warangal\n",
      "Processing Record 42 of Set 2 | banyumas\n",
      "Processing Record 43 of Set 2 | ust-bolsheretsk\n",
      "City not found. Skipping...\n",
      "Processing Record 44 of Set 2 | tahta\n",
      "Processing Record 45 of Set 2 | nouakchott\n",
      "Processing Record 46 of Set 2 | nanortalik\n",
      "Processing Record 47 of Set 2 | port said\n",
      "Processing Record 48 of Set 2 | lompoc\n",
      "Processing Record 49 of Set 2 | taolanaro\n",
      "City not found. Skipping...\n",
      "Processing Record 50 of Set 2 | usinsk\n"
     ]
    }
   ],
   "source": [
    "# Create an empty list to hold the weather data.\n",
    "city_data = []\n",
    "# Print the beginning of the logging.\n",
    "print(\"Beginning Data Retrieval     \")\n",
    "print(\"-----------------------------\")\n",
    "\n",
    "# Create counters.\n",
    "record_count = 1\n",
    "set_count = 1\n",
    "\n",
    "# Loop through all the cities in the list.\n",
    "for i, city in enumerate(cities):\n",
    "\n",
    "    # Group cities in sets of 50 for logging purposes.\n",
    "    if (i % 50 == 0 and i >= 50):\n",
    "        set_count += 1\n",
    "        record_count = 1\n",
    "        time.sleep(60)\n",
    "\n",
    "    # Create endpoint URL with each city.\n",
    "    city_url = url + \"&q=\" + city.replace(\" \",\"+\")\n",
    "\n",
    "    # Log the URL, record, and set numbers and the city.\n",
    "    print(f\"Processing Record {record_count} of Set {set_count} | {city}\")\n",
    "    # Add 1 to the record count.\n",
    "    record_count += 1\n",
    "    \n",
    "    # Run an API request for each of the cities.\n",
    "    try:\n",
    "        # Parse the JSON and retrieve data.\n",
    "        city_weather = requests.get(city_url).json()\n",
    "        # Parse out the needed data.\n",
    "        city_lat = city_weather[\"coord\"][\"lat\"]\n",
    "        city_lng = city_weather[\"coord\"][\"lon\"]\n",
    "        city_max_temp = city_weather[\"main\"][\"temp_max\"]\n",
    "        city_humidity = city_weather[\"main\"][\"humidity\"]\n",
    "        city_clouds = city_weather[\"clouds\"][\"all\"]\n",
    "        city_wind = city_weather[\"wind\"][\"speed\"]\n",
    "        city_country = city_weather[\"sys\"][\"country\"]\n",
    "        city_description = city_weather[\"weather\"][0][\"description\"]\n",
    "        \n",
    "        # Convert the date to ISO standard.\n",
    "        city_date = datetime.utcfromtimestamp(city_weather[\"dt\"]).strftime('%Y-%m-%d %H:%M:%S')\n",
    "        # Append the city information into city_data list.\n",
    "        city_data.append({\"City\": city.title(),\n",
    "                          \"Country\": city_country,\n",
    "                          \"Lat\": city_lat,\n",
    "                          \"Lng\": city_lng,\n",
    "                          \"Max Temp\": city_max_temp,\n",
    "                          \"Humidity\": city_humidity,\n",
    "                          \"Cloudiness\": city_clouds,\n",
    "                          \"Wind Speed\": city_wind,\n",
    "                          \"Current Description\": city_description})\n",
    "\n",
    "# If an error is experienced, skip the city.\n",
    "    except:\n",
    "        print(\"City not found. Skipping...\")\n",
    "        pass\n",
    "\n",
    "# Indicate that Data Loading is complete.\n",
    "print(\"-----------------------------\")\n",
    "print(\"Data Retrieval Complete      \")\n",
    "print(\"-----------------------------\")"
   ]
  },
  {
   "cell_type": "code",
   "execution_count": 6,
   "id": "672f5344",
   "metadata": {},
   "outputs": [
    {
     "ename": "NameError",
     "evalue": "name 'city_data' is not defined",
     "output_type": "error",
     "traceback": [
      "\u001b[1;31m---------------------------------------------------------------------------\u001b[0m",
      "\u001b[1;31mNameError\u001b[0m                                 Traceback (most recent call last)",
      "\u001b[1;32m~\\AppData\\Local\\Temp/ipykernel_17216/3028701525.py\u001b[0m in \u001b[0;36m<module>\u001b[1;34m\u001b[0m\n\u001b[0;32m      1\u001b[0m \u001b[1;31m# Convert the array of dictionaries to a Pandas DataFrame.\u001b[0m\u001b[1;33m\u001b[0m\u001b[1;33m\u001b[0m\u001b[1;33m\u001b[0m\u001b[0m\n\u001b[1;32m----> 2\u001b[1;33m \u001b[0mcity_data_df\u001b[0m \u001b[1;33m=\u001b[0m \u001b[0mpd\u001b[0m\u001b[1;33m.\u001b[0m\u001b[0mDataFrame\u001b[0m\u001b[1;33m(\u001b[0m\u001b[0mcity_data\u001b[0m\u001b[1;33m)\u001b[0m\u001b[1;33m\u001b[0m\u001b[1;33m\u001b[0m\u001b[0m\n\u001b[0m\u001b[0;32m      3\u001b[0m \u001b[0mcity_data_df\u001b[0m\u001b[1;33m.\u001b[0m\u001b[0mhead\u001b[0m\u001b[1;33m(\u001b[0m\u001b[1;36m10\u001b[0m\u001b[1;33m)\u001b[0m\u001b[1;33m\u001b[0m\u001b[1;33m\u001b[0m\u001b[0m\n",
      "\u001b[1;31mNameError\u001b[0m: name 'city_data' is not defined"
     ]
    }
   ],
   "source": [
    "# Convert the array of dictionaries to a Pandas DataFrame.\n",
    "city_data_df = pd.DataFrame(city_data)\n",
    "city_data_df.head(10)"
   ]
  },
  {
   "cell_type": "code",
   "execution_count": 13,
   "id": "08bf41b5",
   "metadata": {},
   "outputs": [],
   "source": [
    "# Turn file into csv and export dataframe\n",
    "city_data_df.to_csv(\"WeatherPy_database.csv\")"
   ]
  }
 ],
 "metadata": {
  "kernelspec": {
   "display_name": "PythonData",
   "language": "python",
   "name": "pythondata"
  },
  "language_info": {
   "codemirror_mode": {
    "name": "ipython",
    "version": 3
   },
   "file_extension": ".py",
   "mimetype": "text/x-python",
   "name": "python",
   "nbconvert_exporter": "python",
   "pygments_lexer": "ipython3",
   "version": "3.7.11"
  }
 },
 "nbformat": 4,
 "nbformat_minor": 5
}
